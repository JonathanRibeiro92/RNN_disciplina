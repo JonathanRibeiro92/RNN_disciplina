{
  "nbformat": 4,
  "nbformat_minor": 0,
  "metadata": {
    "colab": {
      "provenance": [],
      "include_colab_link": true
    },
    "kernelspec": {
      "name": "python3",
      "display_name": "Python 3"
    },
    "language_info": {
      "name": "python"
    }
  },
  "cells": [
    {
      "cell_type": "markdown",
      "metadata": {
        "id": "view-in-github",
        "colab_type": "text"
      },
      "source": [
        "<a href=\"https://colab.research.google.com/github/JonathanRibeiro92/RNN_disciplina/blob/main/atividade_keras.ipynb\" target=\"_parent\"><img src=\"https://colab.research.google.com/assets/colab-badge.svg\" alt=\"Open In Colab\"/></a>"
      ]
    },
    {
      "cell_type": "code",
      "source": [
        "from tensorflow.keras.datasets import reuters\n",
        "import tensorflow as tf\n",
        "\n",
        "from keras.utils import to_categorical\n",
        "from keras.models import Sequential\n",
        "from keras.layers import Dense, Dropout, Activation\n",
        "from keras.preprocessing.text import Tokenizer\n",
        "\n",
        "import matplotlib.pyplot as plt\n",
        "%matplotlib inline"
      ],
      "metadata": {
        "id": "88nTvQhBTmpN"
      },
      "execution_count": 31,
      "outputs": []
    },
    {
      "cell_type": "code",
      "source": [
        "(XTr, YTr),(XTe, YTe) = reuters.load_data(num_words=None, test_split=0.3)\n",
        "\n",
        "print('XTr Shape = ',  XTr.shape)\n",
        "print('YTr Shape = ',  YTr.shape)\n",
        "print('XTe Shape = ',  XTe.shape)\n",
        "print('YTe Shape = ',  YTe.shape)"
      ],
      "metadata": {
        "colab": {
          "base_uri": "https://localhost:8080/"
        },
        "id": "6sigRZsuXvNg",
        "outputId": "ed344947-3aa5-40a9-82d6-158d4286504e"
      },
      "execution_count": 25,
      "outputs": [
        {
          "output_type": "stream",
          "name": "stdout",
          "text": [
            "XTr Shape =  (7859,)\n",
            "YTr Shape =  (7859,)\n",
            "XTe Shape =  (3369,)\n",
            "YTe Shape =  (3369,)\n"
          ]
        }
      ]
    },
    {
      "cell_type": "code",
      "source": [
        "#Tokenização\n",
        "\n",
        "MaxWords = 10000\n",
        "WordIndex = reuters.get_word_index(path=\"reuters_word_index.json\")\n",
        "\n",
        "\n",
        "Tok = Tokenizer(num_words=MaxWords)\n",
        "XTr = Tok.sequences_to_matrix(XTr, mode='binary')\n",
        "XTe = Tok.sequences_to_matrix(XTe, mode='binary')\n",
        "\n",
        "NumClasses = max(YTr) + 1\n",
        "YTr = to_categorical(YTr, NumClasses)\n",
        "YTe = to_categorical(YTe, NumClasses)\n",
        "\n",
        "\n",
        "print(XTr[1])\n",
        "print(len(XTr[1]))"
      ],
      "metadata": {
        "colab": {
          "base_uri": "https://localhost:8080/"
        },
        "id": "QE8y1ETua-M3",
        "outputId": "94f30e8c-f797-4f1a-fcb5-1fef64329b9b"
      },
      "execution_count": 26,
      "outputs": [
        {
          "output_type": "stream",
          "name": "stdout",
          "text": [
            "[0. 1. 0. ... 0. 0. 0.]\n",
            "10000\n"
          ]
        }
      ]
    },
    {
      "cell_type": "code",
      "source": [
        "#Construir classificador sequencial\n",
        "\n",
        "model = Sequential()\n",
        "model.add(Dense(512, input_shape=(MaxWords,)))\n",
        "model.add(Activation('relu'))\n",
        "model.add(Dropout(0.5))\n",
        "model.add(Dense(NumClasses))\n",
        "model.add(Activation('softmax'))\n",
        "model.summary()\n",
        "\n",
        "model.compile(loss='categorical_crossentropy', \n",
        "              optimizer='adam', \n",
        "              metrics=['accuracy'])"
      ],
      "metadata": {
        "colab": {
          "base_uri": "https://localhost:8080/"
        },
        "id": "ZuC5I1H8Ziab",
        "outputId": "55b69333-48e9-48dd-be5a-4b5d61c702c0"
      },
      "execution_count": 27,
      "outputs": [
        {
          "output_type": "stream",
          "name": "stdout",
          "text": [
            "Model: \"sequential_3\"\n",
            "_________________________________________________________________\n",
            " Layer (type)                Output Shape              Param #   \n",
            "=================================================================\n",
            " dense_6 (Dense)             (None, 512)               5120512   \n",
            "                                                                 \n",
            " activation_6 (Activation)   (None, 512)               0         \n",
            "                                                                 \n",
            " dropout_3 (Dropout)         (None, 512)               0         \n",
            "                                                                 \n",
            " dense_7 (Dense)             (None, 46)                23598     \n",
            "                                                                 \n",
            " activation_7 (Activation)   (None, 46)                0         \n",
            "                                                                 \n",
            "=================================================================\n",
            "Total params: 5,144,110\n",
            "Trainable params: 5,144,110\n",
            "Non-trainable params: 0\n",
            "_________________________________________________________________\n"
          ]
        }
      ]
    },
    {
      "cell_type": "code",
      "source": [
        "#Treinar o modelo\n",
        "history = model.fit(XTr, YTr, epochs=10, validation_data=(XTe, YTe), batch_size=64)"
      ],
      "metadata": {
        "colab": {
          "base_uri": "https://localhost:8080/"
        },
        "id": "7_5LCgiegfUK",
        "outputId": "9df2bd47-9fb5-4e7b-a22f-6f8cba399118"
      },
      "execution_count": 33,
      "outputs": [
        {
          "output_type": "stream",
          "name": "stdout",
          "text": [
            "Epoch 1/10\n",
            "123/123 [==============================] - 12s 95ms/step - loss: 0.1703 - accuracy: 0.9557 - val_loss: 0.9408 - val_accuracy: 0.8041\n",
            "Epoch 2/10\n",
            "123/123 [==============================] - 12s 95ms/step - loss: 0.1599 - accuracy: 0.9580 - val_loss: 0.9635 - val_accuracy: 0.7993\n",
            "Epoch 3/10\n",
            "123/123 [==============================] - 13s 102ms/step - loss: 0.1607 - accuracy: 0.9557 - val_loss: 0.9747 - val_accuracy: 0.8029\n",
            "Epoch 4/10\n",
            "123/123 [==============================] - 11s 91ms/step - loss: 0.1510 - accuracy: 0.9588 - val_loss: 0.9921 - val_accuracy: 0.8023\n",
            "Epoch 5/10\n",
            "123/123 [==============================] - 10s 83ms/step - loss: 0.1455 - accuracy: 0.9617 - val_loss: 0.9869 - val_accuracy: 0.8053\n",
            "Epoch 6/10\n",
            "123/123 [==============================] - 12s 95ms/step - loss: 0.1346 - accuracy: 0.9611 - val_loss: 0.9925 - val_accuracy: 0.8077\n",
            "Epoch 7/10\n",
            "123/123 [==============================] - 11s 91ms/step - loss: 0.1328 - accuracy: 0.9606 - val_loss: 1.0224 - val_accuracy: 0.8065\n",
            "Epoch 8/10\n",
            "123/123 [==============================] - 12s 94ms/step - loss: 0.1341 - accuracy: 0.9608 - val_loss: 1.0574 - val_accuracy: 0.8008\n",
            "Epoch 9/10\n",
            "123/123 [==============================] - 11s 93ms/step - loss: 0.1362 - accuracy: 0.9612 - val_loss: 1.0360 - val_accuracy: 0.8035\n",
            "Epoch 10/10\n",
            "123/123 [==============================] - 11s 94ms/step - loss: 0.1351 - accuracy: 0.9614 - val_loss: 1.0219 - val_accuracy: 0.8047\n"
          ]
        }
      ]
    },
    {
      "cell_type": "code",
      "source": [
        "Scores = model.evaluate(XTe, YTe, verbose=1)\n",
        "print('Test loss:', Scores[0])\n",
        "print('Test accuracy:', Scores[1])"
      ],
      "metadata": {
        "colab": {
          "base_uri": "https://localhost:8080/"
        },
        "id": "5g1wCsqMmwv7",
        "outputId": "8443b53a-b0e3-4700-9f09-dcbb8d32fcba"
      },
      "execution_count": 34,
      "outputs": [
        {
          "output_type": "stream",
          "name": "stdout",
          "text": [
            "106/106 [==============================] - 1s 12ms/step - loss: 1.0219 - accuracy: 0.8047\n",
            "Test loss: 1.021919846534729\n",
            "Test accuracy: 0.8046898245811462\n"
          ]
        }
      ]
    },
    {
      "cell_type": "code",
      "source": [
        "def plotmodelhistory(history): \n",
        "    fig, axs = plt.subplots(1,2,figsize=(15,5)) \n",
        "\n",
        "    axs[0].plot(history.history['accuracy']) \n",
        "    axs[0].plot(history.history['val_accuracy']) \n",
        "    axs[0].set_title('Model Accuracy')\n",
        "    axs[0].set_ylabel('Accuracy') \n",
        "    axs[0].set_xlabel('Epoch')\n",
        "    axs[0].legend(['train', 'validate'], loc='upper left')\n",
        "\n",
        "    axs[1].plot(history.history['loss']) \n",
        "    axs[1].plot(history.history['val_loss']) \n",
        "    axs[1].set_title('Model Loss')\n",
        "    axs[1].set_ylabel('Loss') \n",
        "    axs[1].set_xlabel('Epoch')\n",
        "    axs[1].legend(['train', 'validate'], loc='upper left')\n",
        "    plt.show()\n",
        "\n",
        "print(history.history.keys())\n",
        "\n",
        "plotmodelhistory(history)"
      ],
      "metadata": {
        "colab": {
          "base_uri": "https://localhost:8080/",
          "height": 504
        },
        "id": "adywj1gKnA7B",
        "outputId": "6bffe945-d95c-4577-ae2a-96939fd2cdf3"
      },
      "execution_count": 36,
      "outputs": [
        {
          "output_type": "stream",
          "name": "stdout",
          "text": [
            "dict_keys(['loss', 'accuracy', 'val_loss', 'val_accuracy'])\n"
          ]
        },
        {
          "output_type": "display_data",
          "data": {
            "text/plain": [
              "<Figure size 1500x500 with 2 Axes>"
            ],
            "image/png": "[encoded data removed]"
          },
          "metadata": {}
        }
      ]
    }
  ]
}